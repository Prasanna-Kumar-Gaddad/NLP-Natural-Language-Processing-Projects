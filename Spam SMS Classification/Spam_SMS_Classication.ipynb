{
  "nbformat": 4,
  "nbformat_minor": 0,
  "metadata": {
    "colab": {
      "name": "Spam SMS Classication.ipynb",
      "provenance": [],
      "collapsed_sections": [],
      "authorship_tag": "ABX9TyOvc8olz/5eWQEwGilcdZqi",
      "include_colab_link": true
    },
    "kernelspec": {
      "name": "python3",
      "display_name": "Python 3"
    }
  },
  "cells": [
    {
      "cell_type": "markdown",
      "metadata": {
        "id": "view-in-github",
        "colab_type": "text"
      },
      "source": [
        "<a href=\"https://colab.research.google.com/github/Shinigami-Developer/NLP-Natural-Language-Processing-Projects/blob/main/Spam%20SMS%20Classification/Spam_SMS_Classication.ipynb\" target=\"_parent\"><img src=\"https://colab.research.google.com/assets/colab-badge.svg\" alt=\"Open In Colab\"/></a>"
      ]
    },
    {
      "cell_type": "code",
      "metadata": {
        "id": "dikETtaiSAaQ"
      },
      "source": [
        "# Importing essential libraries\r\n",
        "import numpy as np\r\n",
        "import pandas as pd"
      ],
      "execution_count": 1,
      "outputs": []
    },
    {
      "cell_type": "code",
      "metadata": {
        "id": "dEz_PbjoTGfZ"
      },
      "source": [
        "# Loading the dataset\r\n",
        "df = pd.read_csv('/content/Spam SMS Collection', sep='\\t', names=['label', 'message'])"
      ],
      "execution_count": 2,
      "outputs": []
    },
    {
      "cell_type": "markdown",
      "metadata": {
        "id": "gPEg0XwwTOxx"
      },
      "source": [
        "**Exploratory Data Analysis (EDA)**\r\n",
        "\r\n",
        "* Exploring NaN values in dataset\r\n",
        "* Plotting countplots for Spam vs. Ham"
      ]
    },
    {
      "cell_type": "code",
      "metadata": {
        "colab": {
          "base_uri": "https://localhost:8080/"
        },
        "id": "dViJzuv-TJQq",
        "outputId": "2c26be48-d826-4545-f314-750963569274"
      },
      "source": [
        "df.shape"
      ],
      "execution_count": 3,
      "outputs": [
        {
          "output_type": "execute_result",
          "data": {
            "text/plain": [
              "(5572, 2)"
            ]
          },
          "metadata": {
            "tags": []
          },
          "execution_count": 3
        }
      ]
    },
    {
      "cell_type": "code",
      "metadata": {
        "colab": {
          "base_uri": "https://localhost:8080/"
        },
        "id": "mx4jJXbtTW5A",
        "outputId": "5924f046-b7c6-4418-b33f-f7034fa2e59d"
      },
      "source": [
        "df.columns"
      ],
      "execution_count": 4,
      "outputs": [
        {
          "output_type": "execute_result",
          "data": {
            "text/plain": [
              "Index(['label', 'message'], dtype='object')"
            ]
          },
          "metadata": {
            "tags": []
          },
          "execution_count": 4
        }
      ]
    },
    {
      "cell_type": "code",
      "metadata": {
        "colab": {
          "base_uri": "https://localhost:8080/"
        },
        "id": "IVEsPEmITYcI",
        "outputId": "21908813-9d2b-4874-a5d5-bab7a5424c80"
      },
      "source": [
        "df.dtypes"
      ],
      "execution_count": 5,
      "outputs": [
        {
          "output_type": "execute_result",
          "data": {
            "text/plain": [
              "label      object\n",
              "message    object\n",
              "dtype: object"
            ]
          },
          "metadata": {
            "tags": []
          },
          "execution_count": 5
        }
      ]
    },
    {
      "cell_type": "code",
      "metadata": {
        "colab": {
          "base_uri": "https://localhost:8080/",
          "height": 204
        },
        "id": "Z2azqZm4TZ-Y",
        "outputId": "16a02ba6-09a0-4006-c73e-91e3a0291ec7"
      },
      "source": [
        "df.head()"
      ],
      "execution_count": 6,
      "outputs": [
        {
          "output_type": "execute_result",
          "data": {
            "text/html": [
              "<div>\n",
              "<style scoped>\n",
              "    .dataframe tbody tr th:only-of-type {\n",
              "        vertical-align: middle;\n",
              "    }\n",
              "\n",
              "    .dataframe tbody tr th {\n",
              "        vertical-align: top;\n",
              "    }\n",
              "\n",
              "    .dataframe thead th {\n",
              "        text-align: right;\n",
              "    }\n",
              "</style>\n",
              "<table border=\"1\" class=\"dataframe\">\n",
              "  <thead>\n",
              "    <tr style=\"text-align: right;\">\n",
              "      <th></th>\n",
              "      <th>label</th>\n",
              "      <th>message</th>\n",
              "    </tr>\n",
              "  </thead>\n",
              "  <tbody>\n",
              "    <tr>\n",
              "      <th>0</th>\n",
              "      <td>ham</td>\n",
              "      <td>Go until jurong point, crazy.. Available only ...</td>\n",
              "    </tr>\n",
              "    <tr>\n",
              "      <th>1</th>\n",
              "      <td>ham</td>\n",
              "      <td>Ok lar... Joking wif u oni...</td>\n",
              "    </tr>\n",
              "    <tr>\n",
              "      <th>2</th>\n",
              "      <td>spam</td>\n",
              "      <td>Free entry in 2 a wkly comp to win FA Cup fina...</td>\n",
              "    </tr>\n",
              "    <tr>\n",
              "      <th>3</th>\n",
              "      <td>ham</td>\n",
              "      <td>U dun say so early hor... U c already then say...</td>\n",
              "    </tr>\n",
              "    <tr>\n",
              "      <th>4</th>\n",
              "      <td>ham</td>\n",
              "      <td>Nah I don't think he goes to usf, he lives aro...</td>\n",
              "    </tr>\n",
              "  </tbody>\n",
              "</table>\n",
              "</div>"
            ],
            "text/plain": [
              "  label                                            message\n",
              "0   ham  Go until jurong point, crazy.. Available only ...\n",
              "1   ham                      Ok lar... Joking wif u oni...\n",
              "2  spam  Free entry in 2 a wkly comp to win FA Cup fina...\n",
              "3   ham  U dun say so early hor... U c already then say...\n",
              "4   ham  Nah I don't think he goes to usf, he lives aro..."
            ]
          },
          "metadata": {
            "tags": []
          },
          "execution_count": 6
        }
      ]
    },
    {
      "cell_type": "code",
      "metadata": {
        "colab": {
          "base_uri": "https://localhost:8080/",
          "height": 204
        },
        "id": "UIYCrLohTbOY",
        "outputId": "abb6b2b9-c58e-4a64-cb0c-87c7740dc443"
      },
      "source": [
        "df.tail()"
      ],
      "execution_count": 7,
      "outputs": [
        {
          "output_type": "execute_result",
          "data": {
            "text/html": [
              "<div>\n",
              "<style scoped>\n",
              "    .dataframe tbody tr th:only-of-type {\n",
              "        vertical-align: middle;\n",
              "    }\n",
              "\n",
              "    .dataframe tbody tr th {\n",
              "        vertical-align: top;\n",
              "    }\n",
              "\n",
              "    .dataframe thead th {\n",
              "        text-align: right;\n",
              "    }\n",
              "</style>\n",
              "<table border=\"1\" class=\"dataframe\">\n",
              "  <thead>\n",
              "    <tr style=\"text-align: right;\">\n",
              "      <th></th>\n",
              "      <th>label</th>\n",
              "      <th>message</th>\n",
              "    </tr>\n",
              "  </thead>\n",
              "  <tbody>\n",
              "    <tr>\n",
              "      <th>5567</th>\n",
              "      <td>spam</td>\n",
              "      <td>This is the 2nd time we have tried 2 contact u...</td>\n",
              "    </tr>\n",
              "    <tr>\n",
              "      <th>5568</th>\n",
              "      <td>ham</td>\n",
              "      <td>Will ü b going to esplanade fr home?</td>\n",
              "    </tr>\n",
              "    <tr>\n",
              "      <th>5569</th>\n",
              "      <td>ham</td>\n",
              "      <td>Pity, * was in mood for that. So...any other s...</td>\n",
              "    </tr>\n",
              "    <tr>\n",
              "      <th>5570</th>\n",
              "      <td>ham</td>\n",
              "      <td>The guy did some bitching but I acted like i'd...</td>\n",
              "    </tr>\n",
              "    <tr>\n",
              "      <th>5571</th>\n",
              "      <td>ham</td>\n",
              "      <td>Rofl. Its true to its name</td>\n",
              "    </tr>\n",
              "  </tbody>\n",
              "</table>\n",
              "</div>"
            ],
            "text/plain": [
              "     label                                            message\n",
              "5567  spam  This is the 2nd time we have tried 2 contact u...\n",
              "5568   ham               Will ü b going to esplanade fr home?\n",
              "5569   ham  Pity, * was in mood for that. So...any other s...\n",
              "5570   ham  The guy did some bitching but I acted like i'd...\n",
              "5571   ham                         Rofl. Its true to its name"
            ]
          },
          "metadata": {
            "tags": []
          },
          "execution_count": 7
        }
      ]
    },
    {
      "cell_type": "code",
      "metadata": {
        "colab": {
          "base_uri": "https://localhost:8080/"
        },
        "id": "_GIBA7bkTcdI",
        "outputId": "122902f2-b4db-4ba0-835f-eb0ffde321b9"
      },
      "source": [
        "\r\n",
        "df.info()"
      ],
      "execution_count": 8,
      "outputs": [
        {
          "output_type": "stream",
          "text": [
            "<class 'pandas.core.frame.DataFrame'>\n",
            "RangeIndex: 5572 entries, 0 to 5571\n",
            "Data columns (total 2 columns):\n",
            " #   Column   Non-Null Count  Dtype \n",
            "---  ------   --------------  ----- \n",
            " 0   label    5572 non-null   object\n",
            " 1   message  5572 non-null   object\n",
            "dtypes: object(2)\n",
            "memory usage: 87.2+ KB\n"
          ],
          "name": "stdout"
        }
      ]
    },
    {
      "cell_type": "code",
      "metadata": {
        "colab": {
          "base_uri": "https://localhost:8080/",
          "height": 173
        },
        "id": "B72p__rmTe7o",
        "outputId": "12077617-d79b-463f-f649-ee140dc613b2"
      },
      "source": [
        "df.describe(include='object')"
      ],
      "execution_count": 9,
      "outputs": [
        {
          "output_type": "execute_result",
          "data": {
            "text/html": [
              "<div>\n",
              "<style scoped>\n",
              "    .dataframe tbody tr th:only-of-type {\n",
              "        vertical-align: middle;\n",
              "    }\n",
              "\n",
              "    .dataframe tbody tr th {\n",
              "        vertical-align: top;\n",
              "    }\n",
              "\n",
              "    .dataframe thead th {\n",
              "        text-align: right;\n",
              "    }\n",
              "</style>\n",
              "<table border=\"1\" class=\"dataframe\">\n",
              "  <thead>\n",
              "    <tr style=\"text-align: right;\">\n",
              "      <th></th>\n",
              "      <th>label</th>\n",
              "      <th>message</th>\n",
              "    </tr>\n",
              "  </thead>\n",
              "  <tbody>\n",
              "    <tr>\n",
              "      <th>count</th>\n",
              "      <td>5572</td>\n",
              "      <td>5572</td>\n",
              "    </tr>\n",
              "    <tr>\n",
              "      <th>unique</th>\n",
              "      <td>2</td>\n",
              "      <td>5169</td>\n",
              "    </tr>\n",
              "    <tr>\n",
              "      <th>top</th>\n",
              "      <td>ham</td>\n",
              "      <td>Sorry, I'll call later</td>\n",
              "    </tr>\n",
              "    <tr>\n",
              "      <th>freq</th>\n",
              "      <td>4825</td>\n",
              "      <td>30</td>\n",
              "    </tr>\n",
              "  </tbody>\n",
              "</table>\n",
              "</div>"
            ],
            "text/plain": [
              "       label                 message\n",
              "count   5572                    5572\n",
              "unique     2                    5169\n",
              "top      ham  Sorry, I'll call later\n",
              "freq    4825                      30"
            ]
          },
          "metadata": {
            "tags": []
          },
          "execution_count": 9
        }
      ]
    },
    {
      "cell_type": "code",
      "metadata": {
        "colab": {
          "base_uri": "https://localhost:8080/"
        },
        "id": "o_WmzH4nTgdI",
        "outputId": "1c6a9211-c3a7-4e7c-e3cf-9ad226af1685"
      },
      "source": [
        "df.isna().sum()"
      ],
      "execution_count": 10,
      "outputs": [
        {
          "output_type": "execute_result",
          "data": {
            "text/plain": [
              "label      0\n",
              "message    0\n",
              "dtype: int64"
            ]
          },
          "metadata": {
            "tags": []
          },
          "execution_count": 10
        }
      ]
    },
    {
      "cell_type": "code",
      "metadata": {
        "id": "Rmymq-flTlPo"
      },
      "source": [
        "# Mapping values for label\r\n",
        "df['label'] = df['label'].map({'ham': 0, 'spam': 1})"
      ],
      "execution_count": 11,
      "outputs": []
    },
    {
      "cell_type": "code",
      "metadata": {
        "colab": {
          "base_uri": "https://localhost:8080/",
          "height": 204
        },
        "id": "g2wMrWALTnNo",
        "outputId": "52c4d1d3-aaa2-4fb0-c7a3-d9e42da654d2"
      },
      "source": [
        "df.head()"
      ],
      "execution_count": 12,
      "outputs": [
        {
          "output_type": "execute_result",
          "data": {
            "text/html": [
              "<div>\n",
              "<style scoped>\n",
              "    .dataframe tbody tr th:only-of-type {\n",
              "        vertical-align: middle;\n",
              "    }\n",
              "\n",
              "    .dataframe tbody tr th {\n",
              "        vertical-align: top;\n",
              "    }\n",
              "\n",
              "    .dataframe thead th {\n",
              "        text-align: right;\n",
              "    }\n",
              "</style>\n",
              "<table border=\"1\" class=\"dataframe\">\n",
              "  <thead>\n",
              "    <tr style=\"text-align: right;\">\n",
              "      <th></th>\n",
              "      <th>label</th>\n",
              "      <th>message</th>\n",
              "    </tr>\n",
              "  </thead>\n",
              "  <tbody>\n",
              "    <tr>\n",
              "      <th>0</th>\n",
              "      <td>0</td>\n",
              "      <td>Go until jurong point, crazy.. Available only ...</td>\n",
              "    </tr>\n",
              "    <tr>\n",
              "      <th>1</th>\n",
              "      <td>0</td>\n",
              "      <td>Ok lar... Joking wif u oni...</td>\n",
              "    </tr>\n",
              "    <tr>\n",
              "      <th>2</th>\n",
              "      <td>1</td>\n",
              "      <td>Free entry in 2 a wkly comp to win FA Cup fina...</td>\n",
              "    </tr>\n",
              "    <tr>\n",
              "      <th>3</th>\n",
              "      <td>0</td>\n",
              "      <td>U dun say so early hor... U c already then say...</td>\n",
              "    </tr>\n",
              "    <tr>\n",
              "      <th>4</th>\n",
              "      <td>0</td>\n",
              "      <td>Nah I don't think he goes to usf, he lives aro...</td>\n",
              "    </tr>\n",
              "  </tbody>\n",
              "</table>\n",
              "</div>"
            ],
            "text/plain": [
              "   label                                            message\n",
              "0      0  Go until jurong point, crazy.. Available only ...\n",
              "1      0                      Ok lar... Joking wif u oni...\n",
              "2      1  Free entry in 2 a wkly comp to win FA Cup fina...\n",
              "3      0  U dun say so early hor... U c already then say...\n",
              "4      0  Nah I don't think he goes to usf, he lives aro..."
            ]
          },
          "metadata": {
            "tags": []
          },
          "execution_count": 12
        }
      ]
    },
    {
      "cell_type": "code",
      "metadata": {
        "colab": {
          "base_uri": "https://localhost:8080/",
          "height": 204
        },
        "id": "OM4QujJITpGo",
        "outputId": "bf978379-3adf-4aeb-a95c-260edc2b005e"
      },
      "source": [
        "df.tail()"
      ],
      "execution_count": 13,
      "outputs": [
        {
          "output_type": "execute_result",
          "data": {
            "text/html": [
              "<div>\n",
              "<style scoped>\n",
              "    .dataframe tbody tr th:only-of-type {\n",
              "        vertical-align: middle;\n",
              "    }\n",
              "\n",
              "    .dataframe tbody tr th {\n",
              "        vertical-align: top;\n",
              "    }\n",
              "\n",
              "    .dataframe thead th {\n",
              "        text-align: right;\n",
              "    }\n",
              "</style>\n",
              "<table border=\"1\" class=\"dataframe\">\n",
              "  <thead>\n",
              "    <tr style=\"text-align: right;\">\n",
              "      <th></th>\n",
              "      <th>label</th>\n",
              "      <th>message</th>\n",
              "    </tr>\n",
              "  </thead>\n",
              "  <tbody>\n",
              "    <tr>\n",
              "      <th>5567</th>\n",
              "      <td>1</td>\n",
              "      <td>This is the 2nd time we have tried 2 contact u...</td>\n",
              "    </tr>\n",
              "    <tr>\n",
              "      <th>5568</th>\n",
              "      <td>0</td>\n",
              "      <td>Will ü b going to esplanade fr home?</td>\n",
              "    </tr>\n",
              "    <tr>\n",
              "      <th>5569</th>\n",
              "      <td>0</td>\n",
              "      <td>Pity, * was in mood for that. So...any other s...</td>\n",
              "    </tr>\n",
              "    <tr>\n",
              "      <th>5570</th>\n",
              "      <td>0</td>\n",
              "      <td>The guy did some bitching but I acted like i'd...</td>\n",
              "    </tr>\n",
              "    <tr>\n",
              "      <th>5571</th>\n",
              "      <td>0</td>\n",
              "      <td>Rofl. Its true to its name</td>\n",
              "    </tr>\n",
              "  </tbody>\n",
              "</table>\n",
              "</div>"
            ],
            "text/plain": [
              "      label                                            message\n",
              "5567      1  This is the 2nd time we have tried 2 contact u...\n",
              "5568      0               Will ü b going to esplanade fr home?\n",
              "5569      0  Pity, * was in mood for that. So...any other s...\n",
              "5570      0  The guy did some bitching but I acted like i'd...\n",
              "5571      0                         Rofl. Its true to its name"
            ]
          },
          "metadata": {
            "tags": []
          },
          "execution_count": 13
        }
      ]
    },
    {
      "cell_type": "code",
      "metadata": {
        "id": "XcZ5jYrrTqw_"
      },
      "source": [
        "# Importing essential libraries for visualization\r\n",
        "import matplotlib.pyplot as plt\r\n",
        "import seaborn as sns\r\n",
        "%matplotlib inline"
      ],
      "execution_count": 14,
      "outputs": []
    },
    {
      "cell_type": "code",
      "metadata": {
        "colab": {
          "base_uri": "https://localhost:8080/",
          "height": 513
        },
        "id": "09iYqJ1STsjf",
        "outputId": "af190e8c-8e42-4b35-fcfa-8c44354fb9d9"
      },
      "source": [
        "# Countplot for Spam vs. Ham as imbalanced dataset\r\n",
        "plt.figure(figsize=(8,8))\r\n",
        "g = sns.countplot(x='label', data=df)\r\n",
        "p = plt.title('Countplot for Spam vs. Ham as imbalanced dataset')\r\n",
        "p = plt.xlabel('Is SMS Spam?')\r\n",
        "p = plt.ylabel('Count')"
      ],
      "execution_count": 15,
      "outputs": [
        {
          "output_type": "display_data",
          "data": {
            "image/png": "[encoded data removed]",
            "text/plain": [
              "<Figure size 576x576 with 1 Axes>"
            ]
          },
          "metadata": {
            "tags": [],
            "needs_background": "light"
          }
        }
      ]
    },
    {
      "cell_type": "markdown",
      "metadata": {
        "id": "V9a3NanOTzJ5"
      },
      "source": [
        "Insight: From the above countplot, it is evident that the dataset is imbalanced."
      ]
    },
    {
      "cell_type": "markdown",
      "metadata": {
        "id": "8qEDckaoT1OR"
      },
      "source": [
        "**Feature Engineering**\r\n",
        "\r\n",
        "* Handling imbalanced dataset using Oversampling\r\n",
        "* Creating new features e.g. word_count, contains_currency_symbol, contains_numbers, etc."
      ]
    },
    {
      "cell_type": "code",
      "metadata": {
        "colab": {
          "base_uri": "https://localhost:8080/"
        },
        "id": "WbIuc_OrTu_P",
        "outputId": "c5ec4d1b-e6b7-4857-b8b0-e30cd8ae7ebf"
      },
      "source": [
        "# Handling imbalanced dataset using Oversampling\r\n",
        "only_spam = df[df['label']==1]\r\n",
        "print('Number of Spam records: {}'.format(only_spam.shape[0]))\r\n",
        "print('Number of Ham records: {}'.format(df.shape[0]-only_spam.shape[0]))"
      ],
      "execution_count": 16,
      "outputs": [
        {
          "output_type": "stream",
          "text": [
            "Number of Spam records: 747\n",
            "Number of Ham records: 4825\n"
          ],
          "name": "stdout"
        }
      ]
    },
    {
      "cell_type": "code",
      "metadata": {
        "colab": {
          "base_uri": "https://localhost:8080/"
        },
        "id": "He30iZBDT6f4",
        "outputId": "7e9c52cd-eb27-432b-81d3-88d824a12376"
      },
      "source": [
        "count = int((df.shape[0]-only_spam.shape[0])/only_spam.shape[0])\r\n",
        "for i in range(0, count-1):\r\n",
        "  df = pd.concat([df, only_spam])\r\n",
        "\r\n",
        "df.shape"
      ],
      "execution_count": 17,
      "outputs": [
        {
          "output_type": "execute_result",
          "data": {
            "text/plain": [
              "(9307, 2)"
            ]
          },
          "metadata": {
            "tags": []
          },
          "execution_count": 17
        }
      ]
    },
    {
      "cell_type": "code",
      "metadata": {
        "colab": {
          "base_uri": "https://localhost:8080/",
          "height": 513
        },
        "id": "K-YSgY5pUD7o",
        "outputId": "280b68d5-f5f2-46c4-ffad-580cac30e2c9"
      },
      "source": [
        "# Countplot for Spam vs. Ham as balanced dataset\r\n",
        "plt.figure(figsize=(8,8))\r\n",
        "g = sns.countplot(x='label', data=df)\r\n",
        "p = plt.title('Countplot for Spam vs. Ham as balanced dataset')\r\n",
        "p = plt.xlabel('Is SMS Spam?')\r\n",
        "p = plt.ylabel('Count')"
      ],
      "execution_count": 18,
      "outputs": [
        {
          "output_type": "display_data",
          "data": {
            "image/png": "[encoded data removed]",
            "text/plain": [
              "<Figure size 576x576 with 1 Axes>"
            ]
          },
          "metadata": {
            "tags": [],
            "needs_background": "light"
          }
        }
      ]
    },
    {
      "cell_type": "code",
      "metadata": {
        "id": "Cz1qLSlsUGAQ"
      },
      "source": [
        "# Creating new feature word_count\r\n",
        "df['word_count'] = df['message'].apply(lambda x: len(x.split()))"
      ],
      "execution_count": 19,
      "outputs": []
    },
    {
      "cell_type": "code",
      "metadata": {
        "colab": {
          "base_uri": "https://localhost:8080/",
          "height": 204
        },
        "id": "qAZOxYCmUJj_",
        "outputId": "acbae0d5-5206-4017-cf23-89f6c3e078e0"
      },
      "source": [
        "df.head()"
      ],
      "execution_count": 20,
      "outputs": [
        {
          "output_type": "execute_result",
          "data": {
            "text/html": [
              "<div>\n",
              "<style scoped>\n",
              "    .dataframe tbody tr th:only-of-type {\n",
              "        vertical-align: middle;\n",
              "    }\n",
              "\n",
              "    .dataframe tbody tr th {\n",
              "        vertical-align: top;\n",
              "    }\n",
              "\n",
              "    .dataframe thead th {\n",
              "        text-align: right;\n",
              "    }\n",
              "</style>\n",
              "<table border=\"1\" class=\"dataframe\">\n",
              "  <thead>\n",
              "    <tr style=\"text-align: right;\">\n",
              "      <th></th>\n",
              "      <th>label</th>\n",
              "      <th>message</th>\n",
              "      <th>word_count</th>\n",
              "    </tr>\n",
              "  </thead>\n",
              "  <tbody>\n",
              "    <tr>\n",
              "      <th>0</th>\n",
              "      <td>0</td>\n",
              "      <td>Go until jurong point, crazy.. Available only ...</td>\n",
              "      <td>20</td>\n",
              "    </tr>\n",
              "    <tr>\n",
              "      <th>1</th>\n",
              "      <td>0</td>\n",
              "      <td>Ok lar... Joking wif u oni...</td>\n",
              "      <td>6</td>\n",
              "    </tr>\n",
              "    <tr>\n",
              "      <th>2</th>\n",
              "      <td>1</td>\n",
              "      <td>Free entry in 2 a wkly comp to win FA Cup fina...</td>\n",
              "      <td>28</td>\n",
              "    </tr>\n",
              "    <tr>\n",
              "      <th>3</th>\n",
              "      <td>0</td>\n",
              "      <td>U dun say so early hor... U c already then say...</td>\n",
              "      <td>11</td>\n",
              "    </tr>\n",
              "    <tr>\n",
              "      <th>4</th>\n",
              "      <td>0</td>\n",
              "      <td>Nah I don't think he goes to usf, he lives aro...</td>\n",
              "      <td>13</td>\n",
              "    </tr>\n",
              "  </tbody>\n",
              "</table>\n",
              "</div>"
            ],
            "text/plain": [
              "   label                                            message  word_count\n",
              "0      0  Go until jurong point, crazy.. Available only ...          20\n",
              "1      0                      Ok lar... Joking wif u oni...           6\n",
              "2      1  Free entry in 2 a wkly comp to win FA Cup fina...          28\n",
              "3      0  U dun say so early hor... U c already then say...          11\n",
              "4      0  Nah I don't think he goes to usf, he lives aro...          13"
            ]
          },
          "metadata": {
            "tags": []
          },
          "execution_count": 20
        }
      ]
    },
    {
      "cell_type": "code",
      "metadata": {
        "colab": {
          "base_uri": "https://localhost:8080/",
          "height": 529
        },
        "id": "AlIWTC-pULa3",
        "outputId": "bf4345a9-9adb-42b6-ef88-0cf050b7ab2c"
      },
      "source": [
        "\r\n",
        "plt.figure(figsize=(12, 6))\r\n",
        "\r\n",
        "# 1-row, 2-column, go to the first subplot\r\n",
        "plt.subplot(1, 2, 1)\r\n",
        "g = sns.distplot(a=df[df['label']==0].word_count)\r\n",
        "p = plt.title('Distribution of word_count for Ham messages')\r\n",
        "\r\n",
        "# 1-row, 2-column, go to the second subplot\r\n",
        "plt.subplot(1, 2, 2)\r\n",
        "g = sns.distplot(a=df[df['label']==1].word_count, color='red')\r\n",
        "p = plt.title('Distribution of word_count for Spam messages')\r\n",
        "\r\n",
        "plt.tight_layout()\r\n",
        "plt.show()"
      ],
      "execution_count": 21,
      "outputs": [
        {
          "output_type": "stream",
          "text": [
            "/usr/local/lib/python3.7/dist-packages/seaborn/distributions.py:2557: FutureWarning: `distplot` is a deprecated function and will be removed in a future version. Please adapt your code to use either `displot` (a figure-level function with similar flexibility) or `histplot` (an axes-level function for histograms).\n",
            "  warnings.warn(msg, FutureWarning)\n",
            "/usr/local/lib/python3.7/dist-packages/seaborn/distributions.py:2557: FutureWarning: `distplot` is a deprecated function and will be removed in a future version. Please adapt your code to use either `displot` (a figure-level function with similar flexibility) or `histplot` (an axes-level function for histograms).\n",
            "  warnings.warn(msg, FutureWarning)\n"
          ],
          "name": "stderr"
        },
        {
          "output_type": "display_data",
          "data": {
            "image/png": "[encoded data removed]",
            "text/plain": [
              "<Figure size 864x432 with 2 Axes>"
            ]
          },
          "metadata": {
            "tags": [],
            "needs_background": "light"
          }
        }
      ]
    },
    {
      "cell_type": "markdown",
      "metadata": {
        "id": "Cgru4KP-UPQ5"
      },
      "source": [
        "Insight: Spam messages wordcount fall in the range of 15-30 words, whereas majority of the Ham messages fall in the range of below 25 words."
      ]
    },
    {
      "cell_type": "code",
      "metadata": {
        "id": "PdRtdbSiUM0X"
      },
      "source": [
        "# Creating feature contains_currency_symbol\r\n",
        "def currency(x):\r\n",
        "  currency_symbols = ['€', '$', '¥', '£', '₹']\r\n",
        "  for i in currency_symbols:\r\n",
        "    if i in x:\r\n",
        "      return 1\r\n",
        "  return 0\r\n",
        "\r\n",
        "df['contains_currency_symbol'] = df['message'].apply(currency)"
      ],
      "execution_count": 22,
      "outputs": []
    },
    {
      "cell_type": "code",
      "metadata": {
        "colab": {
          "base_uri": "https://localhost:8080/",
          "height": 204
        },
        "id": "4TQPUxSnUTD3",
        "outputId": "6d2ee635-2e24-43b0-e61b-e0111b0608fd"
      },
      "source": [
        "df.tail()"
      ],
      "execution_count": 23,
      "outputs": [
        {
          "output_type": "execute_result",
          "data": {
            "text/html": [
              "<div>\n",
              "<style scoped>\n",
              "    .dataframe tbody tr th:only-of-type {\n",
              "        vertical-align: middle;\n",
              "    }\n",
              "\n",
              "    .dataframe tbody tr th {\n",
              "        vertical-align: top;\n",
              "    }\n",
              "\n",
              "    .dataframe thead th {\n",
              "        text-align: right;\n",
              "    }\n",
              "</style>\n",
              "<table border=\"1\" class=\"dataframe\">\n",
              "  <thead>\n",
              "    <tr style=\"text-align: right;\">\n",
              "      <th></th>\n",
              "      <th>label</th>\n",
              "      <th>message</th>\n",
              "      <th>word_count</th>\n",
              "      <th>contains_currency_symbol</th>\n",
              "    </tr>\n",
              "  </thead>\n",
              "  <tbody>\n",
              "    <tr>\n",
              "      <th>5537</th>\n",
              "      <td>1</td>\n",
              "      <td>Want explicit SEX in 30 secs? Ring 02073162414...</td>\n",
              "      <td>16</td>\n",
              "      <td>0</td>\n",
              "    </tr>\n",
              "    <tr>\n",
              "      <th>5540</th>\n",
              "      <td>1</td>\n",
              "      <td>ASKED 3MOBILE IF 0870 CHATLINES INCLU IN FREE ...</td>\n",
              "      <td>33</td>\n",
              "      <td>1</td>\n",
              "    </tr>\n",
              "    <tr>\n",
              "      <th>5547</th>\n",
              "      <td>1</td>\n",
              "      <td>Had your contract mobile 11 Mnths? Latest Moto...</td>\n",
              "      <td>28</td>\n",
              "      <td>0</td>\n",
              "    </tr>\n",
              "    <tr>\n",
              "      <th>5566</th>\n",
              "      <td>1</td>\n",
              "      <td>REMINDER FROM O2: To get 2.50 pounds free call...</td>\n",
              "      <td>28</td>\n",
              "      <td>0</td>\n",
              "    </tr>\n",
              "    <tr>\n",
              "      <th>5567</th>\n",
              "      <td>1</td>\n",
              "      <td>This is the 2nd time we have tried 2 contact u...</td>\n",
              "      <td>30</td>\n",
              "      <td>1</td>\n",
              "    </tr>\n",
              "  </tbody>\n",
              "</table>\n",
              "</div>"
            ],
            "text/plain": [
              "      label  ... contains_currency_symbol\n",
              "5537      1  ...                        0\n",
              "5540      1  ...                        1\n",
              "5547      1  ...                        0\n",
              "5566      1  ...                        0\n",
              "5567      1  ...                        1\n",
              "\n",
              "[5 rows x 4 columns]"
            ]
          },
          "metadata": {
            "tags": []
          },
          "execution_count": 23
        }
      ]
    },
    {
      "cell_type": "code",
      "metadata": {
        "colab": {
          "base_uri": "https://localhost:8080/",
          "height": 513
        },
        "id": "Y6AyyI9vUUoH",
        "outputId": "c181519d-0757-4c6c-adbf-d48d1d91d1c0"
      },
      "source": [
        "# Countplot for contains_currency_symbol\r\n",
        "\r\n",
        "plt.figure(figsize=(8,8))\r\n",
        "\r\n",
        "g = sns.countplot(x='contains_currency_symbol', data=df, hue='label')\r\n",
        "p = plt.title('Countplot for contain_currency')\r\n",
        "p = plt.xlabel('Does SMS contain currency symbol?')\r\n",
        "p = plt.ylabel('Count')\r\n",
        "p = plt.legend(labels=['Ham', 'Spam'], loc=9)"
      ],
      "execution_count": 24,
      "outputs": [
        {
          "output_type": "display_data",
          "data": {
            "image/png": "[encoded data removed]",
            "text/plain": [
              "<Figure size 576x576 with 1 Axes>"
            ]
          },
          "metadata": {
            "tags": [],
            "needs_background": "light"
          }
        }
      ]
    },
    {
      "cell_type": "markdown",
      "metadata": {
        "id": "rIozJ9CEUcE6"
      },
      "source": [
        "Insight: Almost 1/3 of Spam messages contain currency symbols, and currency symbols are rarely used in Ham messages."
      ]
    },
    {
      "cell_type": "code",
      "metadata": {
        "id": "oQ8X8FEKUXUw"
      },
      "source": [
        "# Creating feature contains_number\r\n",
        "def numbers(x):\r\n",
        "  for i in x:\r\n",
        "    if ord(i)>=48 and ord(i)<=57:\r\n",
        "      return 1\r\n",
        "  return 0\r\n",
        "\r\n",
        "df['contains_number'] = df['message'].apply(numbers)"
      ],
      "execution_count": 25,
      "outputs": []
    },
    {
      "cell_type": "code",
      "metadata": {
        "colab": {
          "base_uri": "https://localhost:8080/",
          "height": 204
        },
        "id": "keaY5NfFUeX4",
        "outputId": "0afdb79d-8356-4a4d-deae-45c6ff0d9635"
      },
      "source": [
        "df.head()"
      ],
      "execution_count": 26,
      "outputs": [
        {
          "output_type": "execute_result",
          "data": {
            "text/html": [
              "<div>\n",
              "<style scoped>\n",
              "    .dataframe tbody tr th:only-of-type {\n",
              "        vertical-align: middle;\n",
              "    }\n",
              "\n",
              "    .dataframe tbody tr th {\n",
              "        vertical-align: top;\n",
              "    }\n",
              "\n",
              "    .dataframe thead th {\n",
              "        text-align: right;\n",
              "    }\n",
              "</style>\n",
              "<table border=\"1\" class=\"dataframe\">\n",
              "  <thead>\n",
              "    <tr style=\"text-align: right;\">\n",
              "      <th></th>\n",
              "      <th>label</th>\n",
              "      <th>message</th>\n",
              "      <th>word_count</th>\n",
              "      <th>contains_currency_symbol</th>\n",
              "      <th>contains_number</th>\n",
              "    </tr>\n",
              "  </thead>\n",
              "  <tbody>\n",
              "    <tr>\n",
              "      <th>0</th>\n",
              "      <td>0</td>\n",
              "      <td>Go until jurong point, crazy.. Available only ...</td>\n",
              "      <td>20</td>\n",
              "      <td>0</td>\n",
              "      <td>0</td>\n",
              "    </tr>\n",
              "    <tr>\n",
              "      <th>1</th>\n",
              "      <td>0</td>\n",
              "      <td>Ok lar... Joking wif u oni...</td>\n",
              "      <td>6</td>\n",
              "      <td>0</td>\n",
              "      <td>0</td>\n",
              "    </tr>\n",
              "    <tr>\n",
              "      <th>2</th>\n",
              "      <td>1</td>\n",
              "      <td>Free entry in 2 a wkly comp to win FA Cup fina...</td>\n",
              "      <td>28</td>\n",
              "      <td>0</td>\n",
              "      <td>1</td>\n",
              "    </tr>\n",
              "    <tr>\n",
              "      <th>3</th>\n",
              "      <td>0</td>\n",
              "      <td>U dun say so early hor... U c already then say...</td>\n",
              "      <td>11</td>\n",
              "      <td>0</td>\n",
              "      <td>0</td>\n",
              "    </tr>\n",
              "    <tr>\n",
              "      <th>4</th>\n",
              "      <td>0</td>\n",
              "      <td>Nah I don't think he goes to usf, he lives aro...</td>\n",
              "      <td>13</td>\n",
              "      <td>0</td>\n",
              "      <td>0</td>\n",
              "    </tr>\n",
              "  </tbody>\n",
              "</table>\n",
              "</div>"
            ],
            "text/plain": [
              "   label  ... contains_number\n",
              "0      0  ...               0\n",
              "1      0  ...               0\n",
              "2      1  ...               1\n",
              "3      0  ...               0\n",
              "4      0  ...               0\n",
              "\n",
              "[5 rows x 5 columns]"
            ]
          },
          "metadata": {
            "tags": []
          },
          "execution_count": 26
        }
      ]
    },
    {
      "cell_type": "code",
      "metadata": {
        "colab": {
          "base_uri": "https://localhost:8080/",
          "height": 513
        },
        "id": "BeWRsDc-Uf5v",
        "outputId": "f3b8c0f4-8fba-4df6-97ae-00ef4bf3756e"
      },
      "source": [
        "# Countplot for contains_number\r\n",
        "\r\n",
        "plt.figure(figsize=(8,8))\r\n",
        "\r\n",
        "g = sns.countplot(x='contains_number', data=df, hue='label')\r\n",
        "p = plt.title('Countplot for contain_numbers')\r\n",
        "p = plt.xlabel('Does SMS contain number?')\r\n",
        "p = plt.ylabel('Count')\r\n",
        "p = plt.legend(labels=['Ham', 'Spam'], loc=9)"
      ],
      "execution_count": 27,
      "outputs": [
        {
          "output_type": "display_data",
          "data": {
            "image/png": "[encoded data removed]",
            "text/plain": [
              "<Figure size 576x576 with 1 Axes>"
            ]
          },
          "metadata": {
            "tags": [],
            "needs_background": "light"
          }
        }
      ]
    },
    {
      "cell_type": "markdown",
      "metadata": {
        "id": "S1RxIjq0UkGz"
      },
      "source": [
        "Insight: It is evident that most of the Spam messages contain numbers, and majority of the Ham messages donot contain numbers."
      ]
    },
    {
      "cell_type": "markdown",
      "metadata": {
        "id": "Q-o8gSCwUmPy"
      },
      "source": [
        "**Data Cleaning**\r\n",
        "\r\n",
        "* Removing special character and numbers using regular expression\r\n",
        "* Converting the entire sms into lower case\r\n",
        "* Tokenizing the sms by words\r\n",
        "* Removing the stop words\r\n",
        "* Lemmatizing the words\r\n",
        "* Joining the lemmatized words\r\n",
        "* Building a corpus of messages"
      ]
    },
    {
      "cell_type": "code",
      "metadata": {
        "colab": {
          "base_uri": "https://localhost:8080/"
        },
        "id": "GUx61ox9UiXf",
        "outputId": "a43fd710-48ee-4ae5-ea62-d2c0e89b9c4d"
      },
      "source": [
        "# Importing essential libraries for performing NLP\r\n",
        "\r\n",
        "import nltk\r\n",
        "import re\r\n",
        "nltk.download('stopwords')\r\n",
        "nltk.download('wordnet')\r\n",
        "from nltk.corpus import stopwords\r\n",
        "from nltk.stem import WordNetLemmatizer"
      ],
      "execution_count": 28,
      "outputs": [
        {
          "output_type": "stream",
          "text": [
            "[nltk_data] Downloading package stopwords to /root/nltk_data...\n",
            "[nltk_data]   Unzipping corpora/stopwords.zip.\n",
            "[nltk_data] Downloading package wordnet to /root/nltk_data...\n",
            "[nltk_data]   Unzipping corpora/wordnet.zip.\n"
          ],
          "name": "stdout"
        }
      ]
    },
    {
      "cell_type": "code",
      "metadata": {
        "id": "QBgUctmRU3Xf"
      },
      "source": [
        "# Cleaning the messages\r\n",
        "corpus = []\r\n",
        "wnl = WordNetLemmatizer()\r\n",
        "\r\n",
        "for sms_string in list(df.message):\r\n",
        "\r\n",
        "  # Cleaning special character from the sms\r\n",
        "  message = re.sub(pattern='[^a-zA-Z]', repl=' ', string=sms_string)\r\n",
        "\r\n",
        "  # Converting the entire sms into lower case\r\n",
        "  message = message.lower()\r\n",
        "\r\n",
        "  # Tokenizing the sms by words\r\n",
        "  words = message.split()\r\n",
        "\r\n",
        "  # Removing the stop words\r\n",
        "  filtered_words = [word for word in words if word not in set(stopwords.words('english'))]\r\n",
        "\r\n",
        "  # Lemmatizing the words\r\n",
        "  lemmatized_words = [wnl.lemmatize(word) for word in filtered_words]\r\n",
        "\r\n",
        "  # Joining the lemmatized words\r\n",
        "  message = ' '.join(lemmatized_words)\r\n",
        "\r\n",
        "  # Building a corpus of messages\r\n",
        "  corpus.append(message)"
      ],
      "execution_count": 29,
      "outputs": []
    },
    {
      "cell_type": "code",
      "metadata": {
        "colab": {
          "base_uri": "https://localhost:8080/"
        },
        "id": "I43HSn4VU5o_",
        "outputId": "e61ca5ac-6991-494c-c2b5-35e8664b7062"
      },
      "source": [
        "corpus[0:3]"
      ],
      "execution_count": 30,
      "outputs": [
        {
          "output_type": "execute_result",
          "data": {
            "text/plain": [
              "['go jurong point crazy available bugis n great world la e buffet cine got amore wat',\n",
              " 'ok lar joking wif u oni',\n",
              " 'free entry wkly comp win fa cup final tkts st may text fa receive entry question std txt rate c apply']"
            ]
          },
          "metadata": {
            "tags": []
          },
          "execution_count": 30
        }
      ]
    },
    {
      "cell_type": "code",
      "metadata": {
        "id": "ufNCgSF2U7mn"
      },
      "source": [
        "# Creating the Bag of Words model\r\n",
        "from sklearn.feature_extraction.text import TfidfVectorizer\r\n",
        "tfidf = TfidfVectorizer(max_features=500)\r\n",
        "vectors = tfidf.fit_transform(corpus).toarray()\r\n",
        "feature_names = tfidf.get_feature_names()\r\n",
        "\r\n",
        "# Extracting independent and dependent variables from the dataset\r\n",
        "X = pd.DataFrame(vectors, columns=feature_names)\r\n",
        "y = df['label']"
      ],
      "execution_count": 31,
      "outputs": []
    },
    {
      "cell_type": "markdown",
      "metadata": {
        "id": "9mQd3SL5VHDS"
      },
      "source": [
        "**Model Building & Evaluation**\r\n",
        "\r\n",
        "Metric: F1-Score\r\n",
        "\r\n",
        "* Multiomail Naive Bayes: 0.943\r\n",
        "* Decision Tree: 0.98\r\n",
        "* Random Forest (Ensemble): 0.994\r\n",
        "* Voting (Multinomial Naive Bayes + Decision Tree): 0.98"
      ]
    },
    {
      "cell_type": "code",
      "metadata": {
        "id": "nAzd3KD0U9i_"
      },
      "source": [
        "from sklearn.model_selection import cross_val_score\r\n",
        "from sklearn.metrics import classification_report, confusion_matrix\r\n",
        "from sklearn.model_selection import train_test_split"
      ],
      "execution_count": 32,
      "outputs": []
    },
    {
      "cell_type": "code",
      "metadata": {
        "id": "BuVtigjfVQDH"
      },
      "source": [
        "X_train, X_test, y_train, y_test = train_test_split(X, y, test_size=0.2, random_state=42)"
      ],
      "execution_count": 33,
      "outputs": []
    },
    {
      "cell_type": "code",
      "metadata": {
        "colab": {
          "base_uri": "https://localhost:8080/"
        },
        "id": "DcwLHSxNVRov",
        "outputId": "0b0eccd5-3802-467e-adab-1cf418b734e1"
      },
      "source": [
        "# Fitting Naive Bayes to the Training set\r\n",
        "\r\n",
        "from sklearn.naive_bayes import MultinomialNB\r\n",
        "mnb = MultinomialNB()\r\n",
        "cv = cross_val_score(mnb, X, y, scoring='f1', cv=10)\r\n",
        "\r\n",
        "print('--- Average F1-Score for MNB model: {} ---'.format(round(cv.mean(), 3)))\r\n",
        "print('Standard Deviation: {}'.format(round(cv.std(), 3)))"
      ],
      "execution_count": 34,
      "outputs": [
        {
          "output_type": "stream",
          "text": [
            "--- Average F1-Score for MNB model: 0.943 ---\n",
            "Standard Deviation: 0.004\n"
          ],
          "name": "stdout"
        }
      ]
    },
    {
      "cell_type": "code",
      "metadata": {
        "colab": {
          "base_uri": "https://localhost:8080/"
        },
        "id": "aZsEMjq5VUHv",
        "outputId": "05c313ef-d895-4c7b-b121-d653b2608702"
      },
      "source": [
        "# Classification report for MNB model\r\n",
        "\r\n",
        "mnb = MultinomialNB()\r\n",
        "mnb.fit(X_train, y_train)\r\n",
        "y_pred = mnb.predict(X_test)\r\n",
        "\r\n",
        "print('--- Classification report for MNB model ---')\r\n",
        "print(classification_report(y_test, y_pred))"
      ],
      "execution_count": 35,
      "outputs": [
        {
          "output_type": "stream",
          "text": [
            "--- Classification report for MNB model ---\n",
            "              precision    recall  f1-score   support\n",
            "\n",
            "           0       0.94      0.94      0.94       959\n",
            "           1       0.94      0.94      0.94       903\n",
            "\n",
            "    accuracy                           0.94      1862\n",
            "   macro avg       0.94      0.94      0.94      1862\n",
            "weighted avg       0.94      0.94      0.94      1862\n",
            "\n"
          ],
          "name": "stdout"
        }
      ]
    },
    {
      "cell_type": "code",
      "metadata": {
        "colab": {
          "base_uri": "https://localhost:8080/",
          "height": 350
        },
        "id": "iqEhLi5CVXw3",
        "outputId": "bb18b6c4-e8de-4eb8-fa7c-b724f7804907"
      },
      "source": [
        "# Confusion matrix of MNB model\r\n",
        "\r\n",
        "cm = confusion_matrix(y_test, y_pred)\r\n",
        "\r\n",
        "plt.figure(figsize=(8,5))\r\n",
        "\r\n",
        "axis_labels = ['ham', 'spam']\r\n",
        "g = sns.heatmap(data=cm, annot=True, cmap=\"Blues\", xticklabels=axis_labels, yticklabels=axis_labels, fmt='g', cbar_kws={\"shrink\": 0.5})\r\n",
        "p = plt.xlabel('Actual values')\r\n",
        "p = plt.ylabel('Predicted values')\r\n",
        "p = plt.title('--- Confusion Matrix for Multinomial Naive Bayes model ---')"
      ],
      "execution_count": 36,
      "outputs": [
        {
          "output_type": "display_data",
          "data": {
            "image/png": "[encoded data removed]",
            "text/plain": [
              "<Figure size 576x360 with 2 Axes>"
            ]
          },
          "metadata": {
            "tags": [],
            "needs_background": "light"
          }
        }
      ]
    },
    {
      "cell_type": "code",
      "metadata": {
        "colab": {
          "base_uri": "https://localhost:8080/"
        },
        "id": "_AdVz-8eVcMn",
        "outputId": "ee794754-5fba-4407-d747-d8cde3537c09"
      },
      "source": [
        "# Fitting Random Forest to the Training set\r\n",
        "from sklearn.tree import DecisionTreeClassifier\r\n",
        "dt = DecisionTreeClassifier()\r\n",
        "cv = cross_val_score(dt, X, y, scoring='f1', cv=10)\r\n",
        "print('--- Average F1-Score for Decision Tree model: {} ---'.format(round(cv.mean(), 3)))\r\n",
        "print('Standard Deviation: {}'.format(round(cv.std(), 3)))"
      ],
      "execution_count": 37,
      "outputs": [
        {
          "output_type": "stream",
          "text": [
            "--- Average F1-Score for Decision Tree model: 0.981 ---\n",
            "Standard Deviation: 0.004\n"
          ],
          "name": "stdout"
        }
      ]
    },
    {
      "cell_type": "code",
      "metadata": {
        "colab": {
          "base_uri": "https://localhost:8080/"
        },
        "id": "k3hN9hC6Vn_X",
        "outputId": "da8259e2-64a2-4a6d-81b1-a976c731c929"
      },
      "source": [
        "# Classification report for Decision Tree model\r\n",
        "dt = DecisionTreeClassifier()\r\n",
        "dt.fit(X_train, y_train)\r\n",
        "y_pred = dt.predict(X_test)\r\n",
        "\r\n",
        "print('--- Classification report for Decision Tree model ---')\r\n",
        "print(classification_report(y_test, y_pred))"
      ],
      "execution_count": 38,
      "outputs": [
        {
          "output_type": "stream",
          "text": [
            "--- Classification report for Decision Tree model ---\n",
            "              precision    recall  f1-score   support\n",
            "\n",
            "           0       1.00      0.96      0.98       959\n",
            "           1       0.96      1.00      0.98       903\n",
            "\n",
            "    accuracy                           0.98      1862\n",
            "   macro avg       0.98      0.98      0.98      1862\n",
            "weighted avg       0.98      0.98      0.98      1862\n",
            "\n"
          ],
          "name": "stdout"
        }
      ]
    },
    {
      "cell_type": "code",
      "metadata": {
        "colab": {
          "base_uri": "https://localhost:8080/",
          "height": 350
        },
        "id": "I_PxztMwVul_",
        "outputId": "29cb8160-a4e9-498c-ea03-dabe57596f57"
      },
      "source": [
        "# Confusion matrix of Decision Tree model\r\n",
        "cm = confusion_matrix(y_test, y_pred)\r\n",
        "\r\n",
        "plt.figure(figsize=(8,5))\r\n",
        "axis_labels = ['ham', 'spam']\r\n",
        "g = sns.heatmap(data=cm, annot=True, cmap=\"Blues\", xticklabels=axis_labels, yticklabels=axis_labels, fmt='g', cbar_kws={\"shrink\": 0.5})\r\n",
        "p = plt.xlabel('Actual values')\r\n",
        "p = plt.ylabel('Predicted values')\r\n",
        "p = plt.title('--- Confusion Matrix for Decision Tree model ---')"
      ],
      "execution_count": 39,
      "outputs": [
        {
          "output_type": "display_data",
          "data": {
            "image/png": "[encoded data removed]",
            "text/plain": [
              "<Figure size 576x360 with 2 Axes>"
            ]
          },
          "metadata": {
            "tags": [],
            "needs_background": "light"
          }
        }
      ]
    },
    {
      "cell_type": "code",
      "metadata": {
        "colab": {
          "base_uri": "https://localhost:8080/"
        },
        "id": "s892fdZuVx_n",
        "outputId": "49a76b35-157e-4032-dc6c-3382d1212ca4"
      },
      "source": [
        "# Fitting Random Forest to the Training set\r\n",
        "from sklearn.ensemble import RandomForestClassifier\r\n",
        "rf = RandomForestClassifier(n_estimators=10)\r\n",
        "cv = cross_val_score(rf, X, y, scoring='f1', cv=10)\r\n",
        "print('--- Average F1-Score for Random Forest model: {} ---'.format(round(cv.mean(), 3)))\r\n",
        "print('Standard Deviation: {}'.format(round(cv.std(), 3)))"
      ],
      "execution_count": 40,
      "outputs": [
        {
          "output_type": "stream",
          "text": [
            "--- Average F1-Score for Random Forest model: 0.994 ---\n",
            "Standard Deviation: 0.003\n"
          ],
          "name": "stdout"
        }
      ]
    },
    {
      "cell_type": "code",
      "metadata": {
        "colab": {
          "base_uri": "https://localhost:8080/"
        },
        "id": "usvEuGOPV1kn",
        "outputId": "478374a4-8f72-42a7-b87d-c8ab40095fcc"
      },
      "source": [
        "# Classification report for Random Forest model\r\n",
        "rf = RandomForestClassifier(n_estimators=20)\r\n",
        "rf.fit(X_train, y_train)\r\n",
        "y_pred = rf.predict(X_test)\r\n",
        "\r\n",
        "print('--- Classification report for Random Forest model ---')\r\n",
        "print(classification_report(y_test, y_pred))"
      ],
      "execution_count": 41,
      "outputs": [
        {
          "output_type": "stream",
          "text": [
            "--- Classification report for Random Forest model ---\n",
            "              precision    recall  f1-score   support\n",
            "\n",
            "           0       1.00      0.99      0.99       959\n",
            "           1       0.99      1.00      0.99       903\n",
            "\n",
            "    accuracy                           0.99      1862\n",
            "   macro avg       0.99      0.99      0.99      1862\n",
            "weighted avg       0.99      0.99      0.99      1862\n",
            "\n"
          ],
          "name": "stdout"
        }
      ]
    },
    {
      "cell_type": "code",
      "metadata": {
        "colab": {
          "base_uri": "https://localhost:8080/",
          "height": 350
        },
        "id": "VC5ACbn3V7iP",
        "outputId": "33dd3beb-c37a-4e91-8cf9-e2c52691d0ad"
      },
      "source": [
        "# Confusion matrix of Random Forest model\r\n",
        "cm = confusion_matrix(y_test, y_pred)\r\n",
        "\r\n",
        "plt.figure(figsize=(8,5))\r\n",
        "axis_labels = ['ham', 'spam']\r\n",
        "g = sns.heatmap(data=cm, annot=True, cmap=\"Blues\", xticklabels=axis_labels, yticklabels=axis_labels, fmt='g', cbar_kws={\"shrink\": 0.5})\r\n",
        "p = plt.xlabel('Actual values')\r\n",
        "p = plt.ylabel('Predicted values')\r\n",
        "p = plt.title('--- Confusion Matrix for Random Forest model ---')"
      ],
      "execution_count": 42,
      "outputs": [
        {
          "output_type": "display_data",
          "data": {
            "image/png": "[encoded data removed]",
            "text/plain": [
              "<Figure size 576x360 with 2 Axes>"
            ]
          },
          "metadata": {
            "tags": [],
            "needs_background": "light"
          }
        }
      ]
    },
    {
      "cell_type": "markdown",
      "metadata": {
        "id": "hjgYv8SEWEPD"
      },
      "source": [
        "Note: Decision Tree & MNB algorithms are selected and fed to Voting algorithm to increase the F1-Score!"
      ]
    },
    {
      "cell_type": "code",
      "metadata": {
        "colab": {
          "base_uri": "https://localhost:8080/"
        },
        "id": "2ZQkcVPEWCi-",
        "outputId": "9638e9f7-817e-4477-c2fc-70981f63230d"
      },
      "source": [
        "# Fitting Decision Tree and MNB to VotingClassifier\r\n",
        "from sklearn.ensemble import VotingClassifier\r\n",
        "vc = VotingClassifier([('decision_tree', dt), ('m_naive_bayes', mnb)], weights=[2,1])\r\n",
        "cv = cross_val_score(vc, X, y, cv=10, scoring='f1')\r\n",
        "\r\n",
        "print('--- Average F1-Score for VotingClassifier model: {} ---'.format(round(cv.mean(), 3)))\r\n",
        "print('Standard Deviation: {}'.format(round(cv.std(), 3)))"
      ],
      "execution_count": 43,
      "outputs": [
        {
          "output_type": "stream",
          "text": [
            "--- Average F1-Score for VotingClassifier model: 0.979 ---\n",
            "Standard Deviation: 0.005\n"
          ],
          "name": "stdout"
        }
      ]
    },
    {
      "cell_type": "markdown",
      "metadata": {
        "id": "W5BgNxyDWIRy"
      },
      "source": [
        "Note: Voting algorithm did not out-perform Random Forest algorithm, hence Random Forest algorithm is selected for predicting the results of this problem statement."
      ]
    },
    {
      "cell_type": "markdown",
      "metadata": {
        "id": "gdYAlXfUWKQy"
      },
      "source": [
        "**Making Predictions**"
      ]
    },
    {
      "cell_type": "code",
      "metadata": {
        "id": "K_Mvf2QJWG1X"
      },
      "source": [
        "def predict_spam(sample_message):\r\n",
        "  sample_message = re.sub(pattern='[^a-zA-Z]',repl=' ', string = sample_message)\r\n",
        "  sample_message = sample_message.lower()\r\n",
        "  sample_message_words = sample_message.split()\r\n",
        "  sample_message_words = [word for word in sample_message_words if not word in set(stopwords.words('english'))]\r\n",
        "  final_message = [wnl.lemmatize(word) for word in sample_message_words]\r\n",
        "  final_message = ' '.join(final_message)\r\n",
        "\r\n",
        "  temp = tfidf.transform([final_message]).toarray()\r\n",
        "  return rf.predict(temp)"
      ],
      "execution_count": 44,
      "outputs": []
    },
    {
      "cell_type": "code",
      "metadata": {
        "colab": {
          "base_uri": "https://localhost:8080/"
        },
        "id": "O8_HeGfUWSPO",
        "outputId": "a95a5754-71ff-452f-e89a-e07d30978056"
      },
      "source": [
        "# Prediction 1 - Lottery text message\r\n",
        "sample_message = 'IMPORTANT - You could be entitled up to £3,160 in compensation from mis-sold PPI on a credit card or loan. Please reply PPI for info or STOP to opt out.'\r\n",
        "\r\n",
        "if predict_spam(sample_message):\r\n",
        "  print('Gotcha! This is a SPAM message.')\r\n",
        "else:\r\n",
        "  print('This is a HAM (normal) message.')"
      ],
      "execution_count": 45,
      "outputs": [
        {
          "output_type": "stream",
          "text": [
            "Gotcha! This is a SPAM message.\n"
          ],
          "name": "stdout"
        }
      ]
    },
    {
      "cell_type": "code",
      "metadata": {
        "colab": {
          "base_uri": "https://localhost:8080/"
        },
        "id": "XlQkaNSzWT7G",
        "outputId": "f0e7a5a3-1cfa-4ec6-cec3-5e9f6840dfe5"
      },
      "source": [
        "# Prediction 2 - Casual text chat\r\n",
        "sample_message = 'Came to think of it. I have never got a spam message before.'\r\n",
        "\r\n",
        "if predict_spam(sample_message):\r\n",
        "  print('Gotcha! This is a SPAM message.')\r\n",
        "else:\r\n",
        "  print('This is a HAM (normal) message.')"
      ],
      "execution_count": 46,
      "outputs": [
        {
          "output_type": "stream",
          "text": [
            "This is a HAM (normal) message.\n"
          ],
          "name": "stdout"
        }
      ]
    },
    {
      "cell_type": "code",
      "metadata": {
        "colab": {
          "base_uri": "https://localhost:8080/"
        },
        "id": "pQdMMw4KWWDe",
        "outputId": "28147f6a-ecd2-4f31-8f14-3625c96ffad7"
      },
      "source": [
        "# Prediction 3 - Transaction confirmation text message\r\n",
        "sample_message = 'Sam, your rent payment for Jan 19 has been received. $1,300 will be drafted from your Wells Fargo Account ******0000 within 24-48 business hours. Thank you!'\r\n",
        "\r\n",
        "if predict_spam(sample_message):\r\n",
        "  print('Gotcha! This is a SPAM message.')\r\n",
        "else:\r\n",
        "  print('This is a HAM (normal) message.')"
      ],
      "execution_count": 47,
      "outputs": [
        {
          "output_type": "stream",
          "text": [
            "This is a HAM (normal) message.\n"
          ],
          "name": "stdout"
        }
      ]
    },
    {
      "cell_type": "code",
      "metadata": {
        "colab": {
          "base_uri": "https://localhost:8080/"
        },
        "id": "AngujYfnWZZ-",
        "outputId": "9637cc0a-7532-4611-a033-7b0cfe51f134"
      },
      "source": [
        "# Predicting values 4 - Feedback message\r\n",
        "sample_message = 'Tammy, thanks for choosing Carl’s Car Wash for your express polish. We would love to hear your thoughts on the service. Feel free to text back with any feedback. Safe driving!'\r\n",
        "\r\n",
        "if predict_spam(sample_message):\r\n",
        "  print('Gotcha! This is a SPAM message.')\r\n",
        "else:\r\n",
        "  print('This is a HAM (normal) message.')"
      ],
      "execution_count": 48,
      "outputs": [
        {
          "output_type": "stream",
          "text": [
            "Gotcha! This is a SPAM message.\n"
          ],
          "name": "stdout"
        }
      ]
    }
  ]
}