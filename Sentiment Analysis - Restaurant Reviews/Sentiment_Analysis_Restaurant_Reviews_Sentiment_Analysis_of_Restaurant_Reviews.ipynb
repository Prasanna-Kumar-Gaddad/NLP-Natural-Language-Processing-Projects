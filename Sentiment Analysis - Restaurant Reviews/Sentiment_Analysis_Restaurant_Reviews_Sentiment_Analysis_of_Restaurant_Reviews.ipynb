{
  "nbformat": 4,
  "nbformat_minor": 0,
  "metadata": {
    "colab": {
      "name": "Sentiment Analysis - Restaurant Reviews/Sentiment Analysis of Restaurant Reviews.ipynb",
      "provenance": [],
      "collapsed_sections": [],
      "authorship_tag": "ABX9TyOXi5rw01f4vYXnU4lJNcDj",
      "include_colab_link": true
    },
    "kernelspec": {
      "name": "python3",
      "display_name": "Python 3"
    }
  },
  "cells": [
    {
      "cell_type": "markdown",
      "metadata": {
        "id": "view-in-github",
        "colab_type": "text"
      },
      "source": [
        "<a href=\"https://colab.research.google.com/github/Shinigami-Developer/NLP-Natural-Language-Processing-Projects/blob/main/Sentiment%20Analysis%20-%20Restaurant%20Reviews/Sentiment_Analysis_Restaurant_Reviews_Sentiment_Analysis_of_Restaurant_Reviews.ipynb\" target=\"_parent\"><img src=\"https://colab.research.google.com/assets/colab-badge.svg\" alt=\"Open In Colab\"/></a>"
      ]
    },
    {
      "cell_type": "code",
      "metadata": {
        "id": "QUCV0GHRMox7"
      },
      "source": [
        "# Importing essential libraries\r\n",
        "import numpy as np\r\n",
        "import pandas as pd"
      ],
      "execution_count": 1,
      "outputs": []
    },
    {
      "cell_type": "code",
      "metadata": {
        "id": "hd3cLDhDNemU"
      },
      "source": [
        "# Loading the dataset\r\n",
        "df = pd.read_csv('/content/Restaurant_Reviews.tsv', delimiter='\\t', quoting=3)"
      ],
      "execution_count": 3,
      "outputs": []
    },
    {
      "cell_type": "code",
      "metadata": {
        "colab": {
          "base_uri": "https://localhost:8080/"
        },
        "id": "k2OAPPeJO6VJ",
        "outputId": "f365912b-2e38-47e9-e039-ef861e5bbede"
      },
      "source": [
        "df.shape"
      ],
      "execution_count": 4,
      "outputs": [
        {
          "output_type": "execute_result",
          "data": {
            "text/plain": [
              "(1000, 2)"
            ]
          },
          "metadata": {
            "tags": []
          },
          "execution_count": 4
        }
      ]
    },
    {
      "cell_type": "code",
      "metadata": {
        "colab": {
          "base_uri": "https://localhost:8080/"
        },
        "id": "gLCGQyXEPxoi",
        "outputId": "8eae9a5e-0503-4f35-dfd6-a345fe08c540"
      },
      "source": [
        "df.columns"
      ],
      "execution_count": 5,
      "outputs": [
        {
          "output_type": "execute_result",
          "data": {
            "text/plain": [
              "Index(['Review', 'Liked'], dtype='object')"
            ]
          },
          "metadata": {
            "tags": []
          },
          "execution_count": 5
        }
      ]
    },
    {
      "cell_type": "code",
      "metadata": {
        "colab": {
          "base_uri": "https://localhost:8080/",
          "height": 204
        },
        "id": "X90mpIDDPzPR",
        "outputId": "7e63b3ad-2aea-47bc-e26a-2c6a6c04d4e5"
      },
      "source": [
        "df.head()"
      ],
      "execution_count": 6,
      "outputs": [
        {
          "output_type": "execute_result",
          "data": {
            "text/html": [
              "<div>\n",
              "<style scoped>\n",
              "    .dataframe tbody tr th:only-of-type {\n",
              "        vertical-align: middle;\n",
              "    }\n",
              "\n",
              "    .dataframe tbody tr th {\n",
              "        vertical-align: top;\n",
              "    }\n",
              "\n",
              "    .dataframe thead th {\n",
              "        text-align: right;\n",
              "    }\n",
              "</style>\n",
              "<table border=\"1\" class=\"dataframe\">\n",
              "  <thead>\n",
              "    <tr style=\"text-align: right;\">\n",
              "      <th></th>\n",
              "      <th>Review</th>\n",
              "      <th>Liked</th>\n",
              "    </tr>\n",
              "  </thead>\n",
              "  <tbody>\n",
              "    <tr>\n",
              "      <th>0</th>\n",
              "      <td>Wow... Loved this place.</td>\n",
              "      <td>1</td>\n",
              "    </tr>\n",
              "    <tr>\n",
              "      <th>1</th>\n",
              "      <td>Crust is not good.</td>\n",
              "      <td>0</td>\n",
              "    </tr>\n",
              "    <tr>\n",
              "      <th>2</th>\n",
              "      <td>Not tasty and the texture was just nasty.</td>\n",
              "      <td>0</td>\n",
              "    </tr>\n",
              "    <tr>\n",
              "      <th>3</th>\n",
              "      <td>Stopped by during the late May bank holiday of...</td>\n",
              "      <td>1</td>\n",
              "    </tr>\n",
              "    <tr>\n",
              "      <th>4</th>\n",
              "      <td>The selection on the menu was great and so wer...</td>\n",
              "      <td>1</td>\n",
              "    </tr>\n",
              "  </tbody>\n",
              "</table>\n",
              "</div>"
            ],
            "text/plain": [
              "                                              Review  Liked\n",
              "0                           Wow... Loved this place.      1\n",
              "1                                 Crust is not good.      0\n",
              "2          Not tasty and the texture was just nasty.      0\n",
              "3  Stopped by during the late May bank holiday of...      1\n",
              "4  The selection on the menu was great and so wer...      1"
            ]
          },
          "metadata": {
            "tags": []
          },
          "execution_count": 6
        }
      ]
    },
    {
      "cell_type": "markdown",
      "metadata": {
        "id": "I0O5hJWFP2M0"
      },
      "source": [
        "**Data Preprocessing**"
      ]
    },
    {
      "cell_type": "code",
      "metadata": {
        "colab": {
          "base_uri": "https://localhost:8080/"
        },
        "id": "TgABONZHP0gy",
        "outputId": "d030e45b-3b2b-4ec2-a4d1-f5d7c132b5b3"
      },
      "source": [
        "# Importing essential libraries for performing Natural Language Processing on 'Restaurant_Reviews.tsv' dataset\r\n",
        "\r\n",
        "import nltk\r\n",
        "import re\r\n",
        "nltk.download('stopwords')\r\n",
        "from nltk.corpus import stopwords\r\n",
        "from nltk.stem.porter import PorterStemmer"
      ],
      "execution_count": 7,
      "outputs": [
        {
          "output_type": "stream",
          "text": [
            "[nltk_data] Downloading package stopwords to /root/nltk_data...\n",
            "[nltk_data]   Unzipping corpora/stopwords.zip.\n"
          ],
          "name": "stdout"
        }
      ]
    },
    {
      "cell_type": "code",
      "metadata": {
        "id": "YFkP9sR5P55C"
      },
      "source": [
        "# Cleaning the reviews\r\n",
        "\r\n",
        "corpus = []\r\n",
        "\r\n",
        "for i in range(0,1000):\r\n",
        "\r\n",
        "  # Cleaning special character from the reviews\r\n",
        "  review = re.sub(pattern='[^a-zA-Z]',repl=' ', string=df['Review'][i])\r\n",
        "\r\n",
        "  # Converting the entire review into lower case\r\n",
        "  review = review.lower()\r\n",
        "\r\n",
        "  # Tokenizing the review by words\r\n",
        "  review_words = review.split()\r\n",
        "\r\n",
        "  # Removing the stop words\r\n",
        "  review_words = [word for word in review_words if not word in set(stopwords.words('english'))]\r\n",
        "\r\n",
        "  # Stemming the words\r\n",
        "  ps = PorterStemmer()\r\n",
        "  review = [ps.stem(word) for word in review_words]\r\n",
        "\r\n",
        "  # Joining the stemmed words\r\n",
        "  review = ' '.join(review)\r\n",
        "\r\n",
        "  # Creating a corpus\r\n",
        "  corpus.append(review)"
      ],
      "execution_count": 8,
      "outputs": []
    },
    {
      "cell_type": "code",
      "metadata": {
        "colab": {
          "base_uri": "https://localhost:8080/"
        },
        "id": "IL37_Sp5P-DR",
        "outputId": "1e1eac6f-35be-4df1-ac3f-50c481ab0e72"
      },
      "source": [
        "corpus[0:10]"
      ],
      "execution_count": 9,
      "outputs": [
        {
          "output_type": "execute_result",
          "data": {
            "text/plain": [
              "['wow love place',\n",
              " 'crust good',\n",
              " 'tasti textur nasti',\n",
              " 'stop late may bank holiday rick steve recommend love',\n",
              " 'select menu great price',\n",
              " 'get angri want damn pho',\n",
              " 'honeslti tast fresh',\n",
              " 'potato like rubber could tell made ahead time kept warmer',\n",
              " 'fri great',\n",
              " 'great touch']"
            ]
          },
          "metadata": {
            "tags": []
          },
          "execution_count": 9
        }
      ]
    },
    {
      "cell_type": "code",
      "metadata": {
        "id": "5MpBGLZXP_8p"
      },
      "source": [
        "# Creating the Bag of Words model\r\n",
        "\r\n",
        "from sklearn.feature_extraction.text import CountVectorizer\r\n",
        "\r\n",
        "cv = CountVectorizer(max_features=1500)\r\n",
        "X = cv.fit_transform(corpus).toarray()\r\n",
        "y = df.iloc[:, 1].values"
      ],
      "execution_count": 10,
      "outputs": []
    },
    {
      "cell_type": "markdown",
      "metadata": {
        "id": "DtyBhmV8QHjy"
      },
      "source": [
        "**Model Building**"
      ]
    },
    {
      "cell_type": "code",
      "metadata": {
        "id": "ghZvit5mQGLx"
      },
      "source": [
        "from sklearn.model_selection import train_test_split\r\n",
        "X_train, X_test, y_train, y_test = train_test_split(X, y, test_size = 0.20, random_state = 0)"
      ],
      "execution_count": 11,
      "outputs": []
    },
    {
      "cell_type": "code",
      "metadata": {
        "colab": {
          "base_uri": "https://localhost:8080/"
        },
        "id": "UVlOEy7RQKtJ",
        "outputId": "e1b69fed-bdba-4591-9be5-66fa81bf4e09"
      },
      "source": [
        "# Fitting Naive Bayes to the Training set\r\n",
        "\r\n",
        "from sklearn.naive_bayes import MultinomialNB\r\n",
        "classifier = MultinomialNB()\r\n",
        "classifier.fit(X_train, y_train)"
      ],
      "execution_count": 12,
      "outputs": [
        {
          "output_type": "execute_result",
          "data": {
            "text/plain": [
              "MultinomialNB(alpha=1.0, class_prior=None, fit_prior=True)"
            ]
          },
          "metadata": {
            "tags": []
          },
          "execution_count": 12
        }
      ]
    },
    {
      "cell_type": "code",
      "metadata": {
        "id": "zUGQjyhGQM4R"
      },
      "source": [
        "# Predicting the Test set results\r\n",
        "y_pred = classifier.predict(X_test)"
      ],
      "execution_count": 13,
      "outputs": []
    },
    {
      "cell_type": "code",
      "metadata": {
        "colab": {
          "base_uri": "https://localhost:8080/"
        },
        "id": "HYFyIijdQOe5",
        "outputId": "1d785d18-1910-4589-e481-d2814be49860"
      },
      "source": [
        "# Accuracy, Precision and Recall\r\n",
        "\r\n",
        "from sklearn.metrics import accuracy_score\r\n",
        "from sklearn.metrics import precision_score\r\n",
        "from sklearn.metrics import recall_score\r\n",
        "\r\n",
        "score1 = accuracy_score(y_test,y_pred)\r\n",
        "score2 = precision_score(y_test,y_pred)\r\n",
        "score3= recall_score(y_test,y_pred)\r\n",
        "\r\n",
        "print(\"---- Scores ----\")\r\n",
        "print(\"Accuracy score is: {}%\".format(round(score1*100,2)))\r\n",
        "print(\"Precision score is: {}\".format(round(score2,2)))\r\n",
        "print(\"Recall score is: {}\".format(round(score3,2)))"
      ],
      "execution_count": 14,
      "outputs": [
        {
          "output_type": "stream",
          "text": [
            "---- Scores ----\n",
            "Accuracy score is: 76.5%\n",
            "Precision score is: 0.76\n",
            "Recall score is: 0.79\n"
          ],
          "name": "stdout"
        }
      ]
    },
    {
      "cell_type": "code",
      "metadata": {
        "id": "8l57Ftf5QRqi"
      },
      "source": [
        "# Making the Confusion Matrix\r\n",
        "from sklearn.metrics import confusion_matrix\r\n",
        "cm = confusion_matrix(y_test, y_pred)"
      ],
      "execution_count": 15,
      "outputs": []
    },
    {
      "cell_type": "code",
      "metadata": {
        "colab": {
          "base_uri": "https://localhost:8080/"
        },
        "id": "ngdGiVEIQTtR",
        "outputId": "4dd21017-916b-41e8-b158-8793bbd5ed99"
      },
      "source": [
        "cm"
      ],
      "execution_count": 16,
      "outputs": [
        {
          "output_type": "execute_result",
          "data": {
            "text/plain": [
              "array([[72, 25],\n",
              "       [22, 81]])"
            ]
          },
          "metadata": {
            "tags": []
          },
          "execution_count": 16
        }
      ]
    },
    {
      "cell_type": "code",
      "metadata": {
        "colab": {
          "base_uri": "https://localhost:8080/",
          "height": 405
        },
        "id": "w0ACzZkcQUzB",
        "outputId": "60806eb8-948c-481b-f04a-8a208f7ea5de"
      },
      "source": [
        "# Plotting the confusion matrix\r\n",
        "\r\n",
        "import matplotlib.pyplot as plt\r\n",
        "import seaborn as sns\r\n",
        "%matplotlib inline\r\n",
        "\r\n",
        "plt.figure(figsize = (10,6))\r\n",
        "\r\n",
        "sns.heatmap(cm, annot=True, cmap=\"YlGnBu\", xticklabels=['Negative', 'Positive'], yticklabels=['Negative', 'Positive'])\r\n",
        "\r\n",
        "plt.xlabel('Predicted values')\r\n",
        "plt.ylabel('Actual values')\r\n"
      ],
      "execution_count": 17,
      "outputs": [
        {
          "output_type": "execute_result",
          "data": {
            "text/plain": [
              "Text(69.0, 0.5, 'Actual values')"
            ]
          },
          "metadata": {
            "tags": []
          },
          "execution_count": 17
        },
        {
          "output_type": "display_data",
          "data": {
            "image/png": "[encoded data removed]",
            "text/plain": [
              "<Figure size 720x432 with 2 Axes>"
            ]
          },
          "metadata": {
            "tags": [],
            "needs_background": "light"
          }
        }
      ]
    },
    {
      "cell_type": "code",
      "metadata": {
        "colab": {
          "base_uri": "https://localhost:8080/"
        },
        "id": "efDcqoIcQZoi",
        "outputId": "43a834b3-807d-4810-9708-54e4fae5bfea"
      },
      "source": [
        "# Hyperparameter tuning the Naive Bayes Classifier\r\n",
        "\r\n",
        "best_accuracy = 0.0\r\n",
        "alpha_val = 0.0\r\n",
        "\r\n",
        "for i in np.arange(0.1,1.1,0.1):\r\n",
        "  temp_classifier = MultinomialNB(alpha=i)\r\n",
        "  temp_classifier.fit(X_train, y_train)\r\n",
        "  temp_y_pred = temp_classifier.predict(X_test)\r\n",
        "  score = accuracy_score(y_test, temp_y_pred)\r\n",
        "  print(\"Accuracy score for alpha={} is: {}%\".format(round(i,1), round(score*100,2)))\r\n",
        "  if score>best_accuracy:\r\n",
        "    best_accuracy = score\r\n",
        "    alpha_val = i\r\n",
        "    \r\n",
        "print('--------------------------------------------')\r\n",
        "print('The best accuracy is {}% with alpha value as {}'.format(round(best_accuracy*100, 2), round(alpha_val,1)))"
      ],
      "execution_count": 18,
      "outputs": [
        {
          "output_type": "stream",
          "text": [
            "Accuracy score for alpha=0.1 is: 78.0%\n",
            "Accuracy score for alpha=0.2 is: 78.5%\n",
            "Accuracy score for alpha=0.3 is: 78.0%\n",
            "Accuracy score for alpha=0.4 is: 78.0%\n",
            "Accuracy score for alpha=0.5 is: 77.5%\n",
            "Accuracy score for alpha=0.6 is: 77.5%\n",
            "Accuracy score for alpha=0.7 is: 77.5%\n",
            "Accuracy score for alpha=0.8 is: 77.0%\n",
            "Accuracy score for alpha=0.9 is: 76.5%\n",
            "Accuracy score for alpha=1.0 is: 76.5%\n",
            "--------------------------------------------\n",
            "The best accuracy is 78.5% with alpha value as 0.2\n"
          ],
          "name": "stdout"
        }
      ]
    },
    {
      "cell_type": "code",
      "metadata": {
        "colab": {
          "base_uri": "https://localhost:8080/"
        },
        "id": "3dYzFEkWQeWx",
        "outputId": "95bb0975-4e9c-4b14-937e-0cb5ebc47220"
      },
      "source": [
        "classifier = MultinomialNB(alpha=0.2)\r\n",
        "classifier.fit(X_train, y_train)"
      ],
      "execution_count": 19,
      "outputs": [
        {
          "output_type": "execute_result",
          "data": {
            "text/plain": [
              "MultinomialNB(alpha=0.2, class_prior=None, fit_prior=True)"
            ]
          },
          "metadata": {
            "tags": []
          },
          "execution_count": 19
        }
      ]
    },
    {
      "cell_type": "markdown",
      "metadata": {
        "id": "BPqtXyqCQloc"
      },
      "source": [
        "**Predictions**"
      ]
    },
    {
      "cell_type": "code",
      "metadata": {
        "id": "2dqm3HhwQg_B"
      },
      "source": [
        "def predict_sentiment(sample_review):\r\n",
        "  sample_review = re.sub(pattern='[^a-zA-Z]',repl=' ', string = sample_review)\r\n",
        "  sample_review = sample_review.lower()\r\n",
        "  sample_review_words = sample_review.split()\r\n",
        "  sample_review_words = [word for word in sample_review_words if not word in set(stopwords.words('english'))]\r\n",
        "  ps = PorterStemmer()\r\n",
        "  final_review = [ps.stem(word) for word in sample_review_words]\r\n",
        "  final_review = ' '.join(final_review)\r\n",
        "\r\n",
        "  temp = cv.transform([final_review]).toarray()\r\n",
        "  return classifier.predict(temp)\r\n"
      ],
      "execution_count": 20,
      "outputs": []
    },
    {
      "cell_type": "code",
      "metadata": {
        "colab": {
          "base_uri": "https://localhost:8080/"
        },
        "id": "LbWerDSvQqER",
        "outputId": "95b9d802-3cb0-4eea-a34a-d1e0166710a4"
      },
      "source": [
        "# Predicting values\r\n",
        "\r\n",
        "sample_review = 'The food is really good here.'\r\n",
        "\r\n",
        "if predict_sentiment(sample_review):\r\n",
        "  print('This is a POSITIVE review.')\r\n",
        "else:\r\n",
        "  print('This is a NEGATIVE review!')"
      ],
      "execution_count": 21,
      "outputs": [
        {
          "output_type": "stream",
          "text": [
            "This is a POSITIVE review.\n"
          ],
          "name": "stdout"
        }
      ]
    },
    {
      "cell_type": "code",
      "metadata": {
        "colab": {
          "base_uri": "https://localhost:8080/"
        },
        "id": "Peaj6rhQQwcB",
        "outputId": "497b5c39-4b41-4ea3-c5e3-d186d1acdb6a"
      },
      "source": [
        "# Predicting values\r\n",
        "sample_review = 'Food was pretty bad and the service was very slow.'\r\n",
        "\r\n",
        "if predict_sentiment(sample_review):\r\n",
        "  print('This is a POSITIVE review.')\r\n",
        "else:\r\n",
        "  print('This is a NEGATIVE review!')"
      ],
      "execution_count": 22,
      "outputs": [
        {
          "output_type": "stream",
          "text": [
            "This is a NEGATIVE review!\n"
          ],
          "name": "stdout"
        }
      ]
    },
    {
      "cell_type": "code",
      "metadata": {
        "colab": {
          "base_uri": "https://localhost:8080/"
        },
        "id": "pUCxfUIRQyvp",
        "outputId": "73afa08c-db33-4df8-d816-d967426fce60"
      },
      "source": [
        "# Predicting values\r\n",
        "\r\n",
        "sample_review = 'The food was absolutely wonderful, from preparation to presentation, very pleasing.'\r\n",
        "\r\n",
        "if predict_sentiment(sample_review):\r\n",
        "  print('This is a POSITIVE review.')\r\n",
        "else:\r\n",
        "  print('This is a NEGATIVE review!')"
      ],
      "execution_count": 23,
      "outputs": [
        {
          "output_type": "stream",
          "text": [
            "This is a POSITIVE review.\n"
          ],
          "name": "stdout"
        }
      ]
    }
  ]
}